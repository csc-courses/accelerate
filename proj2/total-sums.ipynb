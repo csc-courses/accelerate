{
 "cells": [
  {
   "cell_type": "code",
   "execution_count": 11,
   "id": "a227eee3",
   "metadata": {},
   "outputs": [
    {
     "name": "stdout",
     "output_type": "stream",
     "text": [
      "523776\n",
      "523776.0\n"
     ]
    }
   ],
   "source": [
    "def total_sum_seq(a):\n",
    "    s = 0\n",
    "    for i in range(len(a)):\n",
    "        s += a[i]\n",
    "    return s\n",
    "\n",
    "    \n",
    "def fill_array(a):\n",
    "    for i in range(len(a)):\n",
    "        a[i] = i\n",
    "    return a\n",
    "\n",
    "SIZE = 1024\n",
    "a = [0]*SIZE\n",
    "fill_array(a)\n",
    "print(total_sum_seq(a))\n",
    "print(1024*1023//2)\n",
    "\n"
   ]
  },
  {
   "cell_type": "code",
   "execution_count": null,
   "id": "c63e7c3a",
   "metadata": {},
   "outputs": [],
   "source": []
  }
 ],
 "metadata": {
  "kernelspec": {
   "display_name": "Python 3",
   "language": "python",
   "name": "python3"
  },
  "language_info": {
   "codemirror_mode": {
    "name": "ipython",
    "version": 3
   },
   "file_extension": ".py",
   "mimetype": "text/x-python",
   "name": "python",
   "nbconvert_exporter": "python",
   "pygments_lexer": "ipython3",
   "version": "3.8.10"
  }
 },
 "nbformat": 4,
 "nbformat_minor": 5
}
