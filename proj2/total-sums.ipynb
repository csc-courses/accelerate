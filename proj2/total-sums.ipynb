{
 "cells": [
  {
   "cell_type": "code",
   "execution_count": 23,
   "id": "66bbde18",
   "metadata": {},
   "outputs": [
    {
     "name": "stdout",
     "output_type": "stream",
     "text": [
      "523776\n",
      "523776\n"
     ]
    }
   ],
   "source": [
    "\n",
    "def above_power_2(x):\n",
    "    i = 1\n",
    "    while i<x:\n",
    "        i *= 2\n",
    "    return i\n",
    "\n",
    "def total_sum_seq(a):\n",
    "    s = 0\n",
    "    for i in range(len(a)):\n",
    "        s += a[i]\n",
    "    return s\n",
    "\n",
    "def total_sum_folding(a):\n",
    "    l_a = above_power_2(len(a))\n",
    "    d = len(a)//2\n",
    "    while d>0:\n",
    "        \n",
    "        for thread in range(d):\n",
    "            a[thread] += a[thread+d]\n",
    "        d = d//2\n",
    "            \n",
    "    return\n",
    "  \n",
    "# test procedures\n",
    "\n",
    "def fill_array(a):\n",
    "    for i in range(len(a)):\n",
    "        a[i] = i\n",
    "    return a\n",
    "\n",
    "SIZE = 1024\n",
    "a = [0]*SIZE\n",
    "fill_array(a)\n",
    "print(total_sum_seq(a))\n",
    "total_sum_folding(a)\n",
    "print(a[0])\n"
   ]
  },
  {
   "cell_type": "code",
   "execution_count": null,
   "id": "acfd8928",
   "metadata": {},
   "outputs": [],
   "source": []
  }
 ],
 "metadata": {
  "kernelspec": {
   "display_name": "Python 3",
   "language": "python",
   "name": "python3"
  },
  "language_info": {
   "codemirror_mode": {
    "name": "ipython",
    "version": 3
   },
   "file_extension": ".py",
   "mimetype": "text/x-python",
   "name": "python",
   "nbconvert_exporter": "python",
   "pygments_lexer": "ipython3",
   "version": "3.8.10"
  }
 },
 "nbformat": 4,
 "nbformat_minor": 5
}
